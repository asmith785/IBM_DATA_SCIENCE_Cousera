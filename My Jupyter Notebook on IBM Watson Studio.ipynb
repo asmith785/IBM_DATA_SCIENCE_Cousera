{
 "cells": [
  {
   "cell_type": "markdown",
   "id": "be357ec1-5302-4722-9c49-d96b0126a002",
   "metadata": {},
   "source": [
    "# \"My Jupyter Notebook on IBM Watson Studio\""
   ]
  },
  {
   "cell_type": "markdown",
   "id": "f0465cdb-911d-4bdf-9c17-ed01587926be",
   "metadata": {},
   "source": [
    "**Antone**\n",
    "\n",
    "Data Analyst\n",
    "    "
   ]
  },
  {
   "cell_type": "markdown",
   "id": "f92be031-d016-4ee6-bb40-69c9772d9e49",
   "metadata": {},
   "source": [
    "*I am interested in Data Science primarily for it's recommendation systems using user data and machine learning.\n"
   ]
  },
  {
   "cell_type": "code",
   "execution_count": 1,
   "id": "7598170f-b612-4b13-b760-2b0324223408",
   "metadata": {},
   "outputs": [
    {
     "data": {
      "text/plain": [
       "4"
      ]
     },
     "execution_count": 1,
     "metadata": {},
     "output_type": "execute_result"
    }
   ],
   "source": [
    "2 * 2"
   ]
  },
  {
   "cell_type": "markdown",
   "id": "205599b0-78f4-4a4a-9ff6-a65bf40ef8c0",
   "metadata": {},
   "source": [
    "\n",
    "* one\n",
    "* two\n",
    "* three\n",
    "* four \n",
    "* five\n",
    "\n",
    "\n",
    "www.ibm.com\n",
    "\n",
    "\n",
    "\n",
    "| Class| Student | Grade |\n",
    "| --- | --- | --- |\n",
    "| Art | Bayes | 75.5 |\n"
   ]
  },
  {
   "cell_type": "code",
   "execution_count": null,
   "id": "aa87c829-9624-4804-861e-f4768e661267",
   "metadata": {},
   "outputs": [],
   "source": []
  }
 ],
 "metadata": {
  "kernelspec": {
   "display_name": "Python",
   "language": "python",
   "name": "conda-env-python-py"
  },
  "language_info": {
   "codemirror_mode": {
    "name": "ipython",
    "version": 3
   },
   "file_extension": ".py",
   "mimetype": "text/x-python",
   "name": "python",
   "nbconvert_exporter": "python",
   "pygments_lexer": "ipython3",
   "version": "3.7.12"
  }
 },
 "nbformat": 4,
 "nbformat_minor": 5
}
