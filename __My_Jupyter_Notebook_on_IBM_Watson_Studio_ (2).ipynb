{
  "cells": [
    {
      "cell_type": "markdown",
      "source": [
        "# \"My Jupyter Notebook on IBM Watson Studio\""
      ],
      "metadata": {
        "id": "be357ec1-5302-4722-9c49-d96b0126a002"
      }
    },
    {
      "cell_type": "markdown",
      "source": [
        "**Antone**\n",
        "\n",
        "Data Analyst\n",
        "    "
      ],
      "metadata": {
        "id": "f0465cdb-911d-4bdf-9c17-ed01587926be"
      }
    },
    {
      "cell_type": "markdown",
      "source": [
        "*I am interested in Data Science primarily for it's recommendation systems using user data and machine learning*\n",
        "\n",
        "\n",
        "\n",
        "\n"
      ],
      "metadata": {
        "id": "f92be031-d016-4ee6-bb40-69c9772d9e49"
      }
    },
    {
      "cell_type": "markdown",
      "source": [
        "**The following code test below is muliplication**"
      ],
      "metadata": {}
    },
    {
      "cell_type": "code",
      "execution_count": null,
      "source": [
        "2 * 2"
      ],
      "outputs": [
        {
          "output_type": "execute_result",
          "data": {
            "text/plain": [
              "4"
            ]
          },
          "metadata": {},
          "execution_count": 1
        }
      ],
      "metadata": {
        "id": "7598170f-b612-4b13-b760-2b0324223408",
        "outputId": "fb68b8e7-8ac9-4529-cd1a-d0a70e8590e0"
      }
    },
    {
      "cell_type": "markdown",
      "source": [
        "\n",
        "* one\n",
        "* two\n",
        "* three\n",
        "* four \n",
        "* five\n",
        "\n",
        "\n",
        "[www.ibm.com](https://)\n",
        "\n",
        "\n",
        "\n",
        "\n",
        "\n",
        "\n",
        "| Class| Student | Grade |\n",
        "| --- | --- | --- |\n",
        "| Art | Bayes | 75.5 |\n"
      ],
      "metadata": {
        "id": "205599b0-78f4-4a4a-9ff6-a65bf40ef8c0"
      }
    }
  ],
  "metadata": {
    "kernelspec": {
      "display_name": "Python",
      "language": "python",
      "name": "conda-env-python-py"
    },
    "language_info": {
      "codemirror_mode": {
        "name": "ipython",
        "version": 3
      },
      "file_extension": ".py",
      "mimetype": "text/x-python",
      "name": "python",
      "nbconvert_exporter": "python",
      "pygments_lexer": "ipython3",
      "version": "3.7.12"
    },
    "colab": {
      "provenance": []
    }
  },
  "nbformat": 4,
  "nbformat_minor": 5
}